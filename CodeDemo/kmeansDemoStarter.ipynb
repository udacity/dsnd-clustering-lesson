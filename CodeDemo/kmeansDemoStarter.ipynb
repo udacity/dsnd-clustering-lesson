{
 "cells": [
  {
   "cell_type": "code",
   "execution_count": null,
   "id": "de783001-1523-42c2-ad31-6f872ddbaeef",
   "metadata": {},
   "outputs": [],
   "source": [
    "import pandas as pd\n",
    "\n",
    "import seaborn as sns\n",
    "\n",
    "from sklearn.cluster import KMeans\n",
    "from sklearn.metrics import silhouette_score\n",
    "\n",
    "from sklearn.decomposition import PCA"
   ]
  },
  {
   "cell_type": "markdown",
   "id": "11ca7e73-324f-4398-88e1-3ff1984f493b",
   "metadata": {},
   "source": [
    "## Get the data and data cleaning\n",
    "\n",
    "    - read in the data\n",
    "    - fix the column headers\n",
    "    - drop extraneous data\n",
    "    - drop nulls\n",
    "    - drop pesky row"
   ]
  },
  {
   "cell_type": "code",
   "execution_count": null,
   "id": "68bcc2d8-b4b0-422a-aaad-f146e3c9092e",
   "metadata": {},
   "outputs": [],
   "source": [
    "# read the csv file\n"
   ]
  },
  {
   "cell_type": "code",
   "execution_count": null,
   "id": "2788f000-f901-46d9-a972-f9fd9256ee30",
   "metadata": {},
   "outputs": [],
   "source": [
    "# fix column names\n"
   ]
  },
  {
   "cell_type": "code",
   "execution_count": null,
   "id": "df69635e-c2ce-484e-b149-82a57513c06c",
   "metadata": {},
   "outputs": [],
   "source": [
    "# drop extraneous columns\n",
    "df.drop(columns=['studyname','samplenumber','species','region','stage','individualid','clutchcompletion','dateegg',\n",
    "                 'delta15n(o/oo)','delta13c(o/oo)','comments'], inplace=True)"
   ]
  },
  {
   "cell_type": "code",
   "execution_count": null,
   "id": "74586748-02b8-4eb0-86df-35a646566497",
   "metadata": {},
   "outputs": [],
   "source": [
    "# fix the column names\n",
    "df.columns = ['island', 'culmenlength', 'culmendepth', 'flipperlength','bodymass', 'sex']"
   ]
  },
  {
   "cell_type": "code",
   "execution_count": null,
   "id": "2aa0ce0b-f64c-4bed-9608-85427dfcee56",
   "metadata": {},
   "outputs": [],
   "source": [
    "# drop nulls and odd data point (sex = '.')\n",
    "df.dropna(inplace=True)\n",
    "df.drop(336, inplace=True)"
   ]
  },
  {
   "cell_type": "code",
   "execution_count": null,
   "id": "15cc3f97-7c41-4cc2-aa39-18c61ccece52",
   "metadata": {
    "scrolled": true
   },
   "outputs": [],
   "source": [
    "# Sanity Check!"
   ]
  },
  {
   "cell_type": "markdown",
   "id": "30fd3c4f-f1b6-42d1-a2eb-7eb293efbfbf",
   "metadata": {},
   "source": [
    "## Data Prep for machine learning\n",
    "\n",
    "Now that we have all our data, and it has been cleaned, we need to prep it for machine learning. For this dataset, we just need to one-hot-encode our categoricals"
   ]
  },
  {
   "cell_type": "code",
   "execution_count": null,
   "id": "0e02dda7-b835-4f3f-a3fb-2e6561e97bcc",
   "metadata": {},
   "outputs": [],
   "source": [
    "# One Hot Encode the categorical variables\n",
    "\n",
    "\n",
    "# Sanity Check!"
   ]
  },
  {
   "cell_type": "markdown",
   "id": "d88e51ab-bb90-4072-80ee-5a1f05b7e13c",
   "metadata": {},
   "source": [
    "## Modeling\n",
    "\n",
    "Since we don't know how many clusters, we'll step through a range of 2 to 10.\n",
    "\n",
    "We will capture the inertia and Silhouette scores for each cluster so we can graph them"
   ]
  },
  {
   "cell_type": "code",
   "execution_count": null,
   "id": "dd80d909-6028-42ba-8bb3-e6ec52517096",
   "metadata": {},
   "outputs": [],
   "source": [
    "# Loop through 2-10 clusters, capturing inertia and Silhouette\n",
    "\n",
    "sil_score = []\n",
    "in_score = []"
   ]
  },
  {
   "cell_type": "code",
   "execution_count": null,
   "id": "b2a1673d-963d-492a-91ae-c3a0c6c898d5",
   "metadata": {},
   "outputs": [],
   "source": [
    "# Graph it!\n",
    "fix, (ax1, ax2) = plt.subplots(1,2,figsize=(20,10))\n",
    "ax1.ticklabel_format(style='plain')\n",
    "ax1.plot(range(2,11),in_score)\n",
    "ax2.plot(range(2,11),sil_score)\n",
    "ax1.set_title( 'Intertia')\n",
    "ax2.set_title('Silhouette Score');\n"
   ]
  },
  {
   "cell_type": "markdown",
   "id": "f124bd0f-c907-47cc-94bf-6ab15c4c94e6",
   "metadata": {},
   "source": [
    "## Interpretation\n",
    "\n",
    "We know there are more than two kinds of penguins running around, so we can't choose that for our cluster number.\n",
    "\n",
    "Reading the Elbow plot (inertia), there is a change at both three and four.\n",
    "\n",
    "If we look at the Silhouette Score plot, besides two, three has the highest score.\n",
    "\n",
    "So, on looking at both plots, we'll select three clusters for our number"
   ]
  },
  {
   "cell_type": "markdown",
   "id": "3cdda457-ee08-4776-94e4-f9653de2c4cf",
   "metadata": {},
   "source": [
    "## Visualization of Clusters\n",
    "\n",
    "Since we are going to use three clusters, let's look at how to create some visualizations.\n",
    "\n",
    "We are going to use PCA, which you will cover later in the course.\n",
    "\n",
    "There are currently nine dimensions in our dataset. We can't show them all.\n",
    "\n",
    "Using PCA we will reduce that to three and then two dimensions to visualize our cluster.\n"
   ]
  },
  {
   "cell_type": "code",
   "execution_count": null,
   "id": "fe299ea4-52f1-4d80-b3fc-14a6aba17c50",
   "metadata": {},
   "outputs": [],
   "source": [
    "# Instantiate KMeans with three clusters, and capture the labels\n"
   ]
  },
  {
   "cell_type": "markdown",
   "id": "32fb3017-1e6f-4d79-bd7a-f44927cf6083",
   "metadata": {},
   "source": [
    "The next takes a bit of explanation.\n",
    "\n",
    "We are going to instantiate the PCA algorithm and tell it to give us three dimensions.\n",
    "\n",
    "The `.fit_transform()` method takes the input, and returns the transformed data. This is functionaly eqivalent of doing each step seperately.\n",
    "\n",
    "We then add the labels for each observation."
   ]
  },
  {
   "cell_type": "code",
   "execution_count": null,
   "id": "f233acd4-c804-48e3-8588-ea1ed4675e80",
   "metadata": {
    "scrolled": true
   },
   "outputs": [],
   "source": [
    "# Instantiate\n",
    "\n",
    "\n",
    "# Create a dataframe with the three components\n",
    "\n",
    "# Add the labels\n",
    "\n",
    "# Sanity Check!\n"
   ]
  },
  {
   "cell_type": "code",
   "execution_count": null,
   "id": "ac4fc355-894d-4b27-a39f-4dafda74b6bd",
   "metadata": {},
   "outputs": [],
   "source": [
    "# This will create a 3D scatter plot\n"
   ]
  },
  {
   "cell_type": "markdown",
   "id": "1c78ebd4-1466-4255-8fe5-408191007ef2",
   "metadata": {},
   "source": [
    "\n",
    "\n",
    "\n",
    "\n",
    "\n",
    "\n",
    "\n",
    "\n",
    "\n"
   ]
  },
  {
   "cell_type": "markdown",
   "id": "c07ae4bd-5179-4c50-81fd-6b109301df8d",
   "metadata": {},
   "source": [
    "We will now do the same thing, but reduce the number of dimensions down to two"
   ]
  },
  {
   "cell_type": "code",
   "execution_count": null,
   "id": "305dd920-7056-4af9-9c2e-c586daa54a6f",
   "metadata": {},
   "outputs": [],
   "source": [
    "# Two primary components\n"
   ]
  },
  {
   "cell_type": "code",
   "execution_count": null,
   "id": "973502e2-db99-4fde-928e-025fb81a2efd",
   "metadata": {},
   "outputs": [],
   "source": [
    "# Using seaborn scatter plot to show two dimensions\n"
   ]
  }
 ],
 "metadata": {
  "kernelspec": {
   "display_name": "Python 3 (ipykernel)",
   "language": "python",
   "name": "python3"
  },
  "language_info": {
   "codemirror_mode": {
    "name": "ipython",
    "version": 3
   },
   "file_extension": ".py",
   "mimetype": "text/x-python",
   "name": "python",
   "nbconvert_exporter": "python",
   "pygments_lexer": "ipython3",
   "version": "3.13.0"
  }
 },
 "nbformat": 4,
 "nbformat_minor": 5
}
