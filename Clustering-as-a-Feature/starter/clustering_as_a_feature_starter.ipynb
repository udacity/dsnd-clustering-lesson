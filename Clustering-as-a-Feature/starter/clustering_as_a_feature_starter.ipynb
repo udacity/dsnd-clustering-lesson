{
 "cells": [
  {
   "cell_type": "code",
   "execution_count": null,
   "id": "bf53b250-34a1-49da-8b08-a96989006205",
   "metadata": {},
   "outputs": [],
   "source": [
    "# imports\n",
    "\n",
    "import pandas as pd\n",
    "\n",
    "from sklearn.model_selection import train_test_split\n",
    "from sklearn.preprocessing import LabelEncoder\n",
    "from sklearn.cluster import KMeans\n",
    "from sklearn.linear_model import LogisticRegression\n",
    "from sklearn.feature_extraction.text import TfidfVectorizer\n",
    "from sklearn.metrics import silhouette_score\n",
    "\n",
    "import matplotlib.pyplot as plt\n",
    "\n",
    "import warnings\n",
    "warnings.filterwarnings('ignore')"
   ]
  },
  {
   "cell_type": "code",
   "execution_count": null,
   "id": "393b7a7a-2fd6-4282-ade1-85dff57f3af1",
   "metadata": {},
   "outputs": [],
   "source": [
    "# Import and check it\n"
   ]
  },
  {
   "cell_type": "code",
   "execution_count": null,
   "id": "f68115e0-0477-4c42-92b4-4fcdde38eace",
   "metadata": {},
   "outputs": [],
   "source": [
    "# Check out the labels\n"
   ]
  },
  {
   "cell_type": "code",
   "execution_count": null,
   "id": "202082b2-1615-4252-9bab-e3977878c3e7",
   "metadata": {},
   "outputs": [],
   "source": [
    "# Use label encoder to prep the labels for machine learning.\n"
   ]
  },
  {
   "cell_type": "code",
   "execution_count": null,
   "id": "99c9e72f-a2a5-41af-a7aa-e81c9cd4b8ee",
   "metadata": {},
   "outputs": [],
   "source": [
    "# Check it\n"
   ]
  },
  {
   "cell_type": "code",
   "execution_count": null,
   "id": "5e664107-860a-494a-b5df-dc98012cc59d",
   "metadata": {},
   "outputs": [],
   "source": [
    "# Double check with value counts\n"
   ]
  },
  {
   "cell_type": "markdown",
   "id": "ddd6addd-6774-4b9f-9994-d7e7f03b1ef6",
   "metadata": {},
   "source": [
    "Note the value and order of the label are irrelevant. It matters only that the machine has a numeric target."
   ]
  },
  {
   "cell_type": "code",
   "execution_count": null,
   "id": "2cd465b2-d31e-427f-8bb5-391d1950c390",
   "metadata": {},
   "outputs": [],
   "source": [
    "# remove the labels from the dataframe for clustering\n"
   ]
  },
  {
   "cell_type": "code",
   "execution_count": null,
   "id": "38f65c0c-58ee-4877-8461-0bf9986273b8",
   "metadata": {},
   "outputs": [],
   "source": [
    "# Check\n"
   ]
  },
  {
   "cell_type": "code",
   "execution_count": null,
   "id": "a31baad8-20ad-4219-ab32-60ed4e6f11aa",
   "metadata": {},
   "outputs": [],
   "source": [
    "# Use a vectorizer to prep the dataframe for clustering. I'm going to use TF-IDF in this example. \n",
    "# I'm also going to limit the document frequency to help\n",
    "\n",
    "tf_idf = TfidfVectorizer(max_df=.95, min_df=.05)\n",
    "X_vec = tf_idf.fit_transform(df_no_labels.text)\n",
    "X_vec = pd.DataFrame.sparse.from_spmatrix(X_vec, columns=tf_idf.get_feature_names_out())\n",
    "X_vec.head()"
   ]
  },
  {
   "cell_type": "code",
   "execution_count": null,
   "id": "c3b5e9f8-0bca-4cd0-971e-fbf73edd825d",
   "metadata": {},
   "outputs": [],
   "source": [
    "# Loop through 2-10 clusters, capturing inertia and Silhouette\n",
    "\n",
    "sil_score = []\n",
    "in_score = []\n"
   ]
  },
  {
   "cell_type": "code",
   "execution_count": null,
   "id": "55224c67-70ba-4fda-ab7f-4b775f21528d",
   "metadata": {},
   "outputs": [],
   "source": [
    "# Graph it!\n",
    "fix, (ax1, ax2) = plt.subplots(1,2,figsize=(20,10))\n",
    "ax1.ticklabel_format(style='plain')\n",
    "ax1.plot(range(2,11),in_score)\n",
    "ax2.plot(range(2,11),sil_score)\n",
    "ax1.set_title( 'Intertia')\n",
    "ax2.set_title('Silhouette Score');\n"
   ]
  },
  {
   "cell_type": "markdown",
   "id": "a462d0fb-75af-4276-892f-3f11f820ae8d",
   "metadata": {},
   "source": [
    "When we look at the Inertia chart, keeping in mind the \"elbow\" method, it looks like five is a good candidate. \n",
    "\n",
    "Looking at the silhouette score, we can see that five has the highest, so we'll use that."
   ]
  },
  {
   "cell_type": "code",
   "execution_count": null,
   "id": "426ce748-2fc7-4446-afff-a15bafd2c585",
   "metadata": {},
   "outputs": [],
   "source": [
    "# We are going to instantiate a kmeans model using five clusters. Once we have that, add\n",
    "# the cluster to the dataframe, as well as the labels.\n"
   ]
  },
  {
   "cell_type": "code",
   "execution_count": null,
   "id": "69b28ebb-c308-4a23-a46e-12f9d5876480",
   "metadata": {},
   "outputs": [],
   "source": [
    "# Prep the data for supervised learning.\n"
   ]
  },
  {
   "cell_type": "code",
   "execution_count": null,
   "id": "c0a24358-c0ba-4e93-9ef2-c320800161f8",
   "metadata": {},
   "outputs": [],
   "source": [
    "# TTS!\n"
   ]
  },
  {
   "cell_type": "code",
   "execution_count": null,
   "id": "4bf8b003-4f01-4ec7-a2f5-8a23e062ef31",
   "metadata": {},
   "outputs": [],
   "source": [
    "# Instantiate and fit\n"
   ]
  },
  {
   "cell_type": "code",
   "execution_count": null,
   "id": "de1b5ad1-5e08-4f42-963b-7e85e076abf3",
   "metadata": {},
   "outputs": [],
   "source": [
    "# Score!\n",
    "print(f'The accuracy of train is {lr.score(X_train, y_train)}')\n",
    "print(f'The accuracy of test is {lr.score(X_test, y_test)}')"
   ]
  },
  {
   "cell_type": "code",
   "execution_count": null,
   "id": "2e93b0da-8a96-4663-92e9-2a61bfc06a10",
   "metadata": {},
   "outputs": [],
   "source": [
    "# Let us compare that result to a model without using the clustering labels\n",
    "X_train_2 = X_train.drop('cluster', axis=1)\n",
    "X_test_2 = X_test.drop('cluster', axis =1)"
   ]
  },
  {
   "cell_type": "code",
   "execution_count": null,
   "id": "4679f0a5-73f8-4f10-b64f-f28606d48757",
   "metadata": {},
   "outputs": [],
   "source": [
    "# Create a new logistic regression model\n"
   ]
  },
  {
   "cell_type": "code",
   "execution_count": null,
   "id": "b329467f-a6d3-432a-9c06-826c070d8cc5",
   "metadata": {},
   "outputs": [],
   "source": [
    "# Score!\n",
    "print(f'The accuracy of train is {lr2.score(X_train_2, y_train)}')\n",
    "print(f'The accuracy of test is {lr2.score(X_test_2, y_test)}')"
   ]
  }
 ],
 "metadata": {
  "kernelspec": {
   "display_name": "Python 3 (ipykernel)",
   "language": "python",
   "name": "python3"
  },
  "language_info": {
   "codemirror_mode": {
    "name": "ipython",
    "version": 3
   },
   "file_extension": ".py",
   "mimetype": "text/x-python",
   "name": "python",
   "nbconvert_exporter": "python",
   "pygments_lexer": "ipython3",
   "version": "3.11.5"
  }
 },
 "nbformat": 4,
 "nbformat_minor": 5
}
